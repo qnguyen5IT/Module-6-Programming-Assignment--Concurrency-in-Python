{
 "cells": [
  {
   "cell_type": "code",
   "execution_count": 1,
   "id": "894f7a54-7f09-4203-bdd7-c8039ca419c5",
   "metadata": {},
   "outputs": [],
   "source": [
    "#13.1\n",
    "from datetime import datetime\n",
    "\n",
    "# Get current date\n",
    "current_date = datetime.now().strftime(\"%Y-%m-%d\")\n",
    "\n",
    "# Write current date to today.txt\n",
    "with open(\"today.txt\", \"w\") as file:\n",
    "    file.write(current_date)"
   ]
  },
  {
   "cell_type": "code",
   "execution_count": 2,
   "id": "ec8619fa-6350-49f7-b8a1-59db22513252",
   "metadata": {},
   "outputs": [],
   "source": [
    "#13.2\n",
    "\n",
    "#Read today.txt into today_string\n",
    "with open(\"today.txt\", \"r\") as file:\n",
    "    today_string = file.read()"
   ]
  },
  {
   "cell_type": "code",
   "execution_count": 5,
   "id": "43d4501c-6801-448c-8241-9bab5e8436af",
   "metadata": {},
   "outputs": [],
   "source": [
    "#13.3\n",
    "from datetime import datetime\n",
    "\n",
    "# Parse the date from today_string\n",
    "parsed_date = datetime.strptime(today_string, \"%Y-%m-%d\")"
   ]
  },
  {
   "cell_type": "code",
   "execution_count": 6,
   "id": "ab20bbfc-abc3-4e9f-9e36-2570439eae3c",
   "metadata": {},
   "outputs": [],
   "source": [
    "#15.1\n",
    "import multiprocessing\n",
    "import time\n",
    "import random\n",
    "from datetime import datetime\n",
    "\n",
    "def worker():\n",
    "    # Wait between a time of 0 and 1\n",
    "    time.sleep(random.uniform(0, 1))\n",
    "    print(f\"Current time: {datetime.now()}\")\n",
    "\n",
    "if __name__ == \"__main__\":\n",
    "    # Create a list to hold the processes\n",
    "    processes = []\n",
    "\n",
    "    # Create and start three processes\n",
    "    for i in range(3):\n",
    "        p = multiprocessing.Process(target=worker)\n",
    "        processes.append(p)\n",
    "        p.start()\n",
    "\n",
    "    # Wait for all processes to complete\n",
    "    for p in processes:\n",
    "        p.join()"
   ]
  }
 ],
 "metadata": {
  "kernelspec": {
   "display_name": "Python 3 (ipykernel)",
   "language": "python",
   "name": "python3"
  },
  "language_info": {
   "codemirror_mode": {
    "name": "ipython",
    "version": 3
   },
   "file_extension": ".py",
   "mimetype": "text/x-python",
   "name": "python",
   "nbconvert_exporter": "python",
   "pygments_lexer": "ipython3",
   "version": "3.12.4"
  }
 },
 "nbformat": 4,
 "nbformat_minor": 5
}
